{
 "cells": [
  {
   "cell_type": "markdown",
   "metadata": {},
   "source": [
    "# Programming with Python\n",
    "#### Stefan Güttel, [guettel.com](http://guettel.com)\n",
    "\n",
    "## Lab class A - Test 1"
   ]
  },
  {
   "cell_type": "markdown",
   "metadata": {},
   "source": [
    "In this test you will be required to write two functions `digitk(n,k)` and `mersenne(n)`. Use a single `.py` file to develop your functions and submit it via Blackboard. Make sure that you use the function names exactly as specified. You are free to write other functions which can be used by `digitk(n,k)` and `mersenne(n)`, but avoid having any code outside functions. All testing should be done in a `main()` function. Pay attention to \"boundary cases\".\n",
    "\n",
    "**To get started, copy and paste the following lines as a template for your code and fill out the personal fields in the docstring:**\n",
    "\n",
    "    \"\"\"\n",
    "    Full name: Peter Pan\n",
    "    StudentId: 123456\n",
    "    Lab class: A\n",
    "    Email: peter.pan@student.manchester.ac.uk\n",
    "    \"\"\"\n",
    "    \n",
    "    def digitk(n,k):\n",
    "        # TODO: Your code goes here\n",
    "        return \n",
    "        \n",
    "    def mersenne(n):\n",
    "        # TODO: Your code goes here\n",
    "        return\n",
    "        \n",
    "    def main():\n",
    "        # TODO: Test your functions here\n",
    "        return\n",
    "\n",
    "    main()"
   ]
  },
  {
   "cell_type": "markdown",
   "metadata": {},
   "source": [
    "**Problem A1.** Write a function `digitk(n,k)` that accepts an integer `n` and an integer `k`.\n",
    "\n",
    "The function has to verify that `k > 0` and, if this is the case, *return* (not *print!*) the `k`-th digit of `n` from the right as an integer. \n",
    "\n",
    "If otherwise `k <= 0`, the function returns the integer value `-1` without any further computation.\n",
    "\n",
    "If `n` has less than `k` digits, the function should return the integer value `0` (a zero).\n",
    "\n",
    "**Example:** For $n = 1234567$ and $k = 3$, `digitk(n,k)` should return `5`."
   ]
  },
  {
   "cell_type": "markdown",
   "metadata": {},
   "source": [
    "**Problem A2.** Write a function `mersenne(n)` that accepts an integer argument `n`. The function has to *return* (not *print!*) the Boolean value `True` if `n` is a Mersenne prime, which is a prime number that is one less than a power of two. That is, it is a prime number of the form $2^m − 1$ for some integer $m$. The function returns the Boolean value `False` otherwise.\n",
    "\n",
    "**Example:** `mersenne(31)` should return `True` as $31 + 1 = 32$ is a power of two and $31$ is a prime number."
   ]
  }
 ],
 "metadata": {
  "kernelspec": {
   "display_name": "Python 3",
   "language": "python",
   "name": "python3"
  },
  "language_info": {
   "codemirror_mode": {
    "name": "ipython",
    "version": 3
   },
   "file_extension": ".py",
   "mimetype": "text/x-python",
   "name": "python",
   "nbconvert_exporter": "python",
   "pygments_lexer": "ipython3",
   "version": "3.6.3"
  }
 },
 "nbformat": 4,
 "nbformat_minor": 1
}
