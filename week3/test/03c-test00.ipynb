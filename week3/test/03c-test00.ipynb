{
 "cells": [
  {
   "cell_type": "markdown",
   "metadata": {},
   "source": [
    "# Programming with Python\n",
    "#### Stefan Güttel, [guettel.com](http://guettel.com)\n",
    "\n",
    "## Test 0 (mock test)"
   ]
  },
  {
   "cell_type": "markdown",
   "metadata": {},
   "source": [
    "This test you will be required to write two functions `digitval(n)` and `digitpos(n)`. Use a single `.py` file to develop your functions and submit it via Blackboard. Make sure that you use the function names exactly as specified. You are free to write other functions which can be used by `digitval(n)` and `digitpos(n)`, but avoid having any code outside functions. All testing should be done in a `main()` function. \n",
    "\n",
    "To get started, copy and paste the following lines as a template for your code and fill out the fields in the docstring:\n",
    "\n",
    "    \"\"\"\n",
    "    Full name: Peter Pan\n",
    "    StudentId: 123456\n",
    "    Email: peter.pan@student.manchester.ac.uk\n",
    "    \"\"\"\n",
    "    \n",
    "    def digitval(n):\n",
    "        # TODO: Your code goes here\n",
    "        return # TODO: return the required value\n",
    "        \n",
    "    def digitpos(n):\n",
    "        # TODO: Your code goes here\n",
    "        return # TODO: return the required position\n",
    "        \n",
    "    def main():\n",
    "        # TODO: Test your functions here\n",
    "        # For example, like so:\n",
    "        print(digitval(-273))\n",
    "        \n",
    "    main()"
   ]
  },
  {
   "cell_type": "markdown",
   "metadata": {},
   "source": [
    "**Problem 1.** Write a function `digitval(n)` which accepts an integer argument `n`. The function has to **return** (not print!) the value of the largest digit in `n` as an integer. \n",
    "\n",
    "For example, the function call `digitval(-273)` should return the integer value $7$."
   ]
  },
  {
   "cell_type": "markdown",
   "metadata": {},
   "source": [
    "**Problem 2.** Write a function `digitpos(n)` which accept an integer argument `n`. The function has to **return** (not print!) the position of the first largest digit in `n` as counted from the left. The first position has index 1, the second index 2, and so on. \n",
    "\n",
    "For example, the function call `digitval(1767234)` should return the integer value `2`, as the largest digit `7` appears first in the second position as counted from the left. "
   ]
  }
 ],
 "metadata": {
  "kernelspec": {
   "display_name": "Python 3",
   "language": "python",
   "name": "python3"
  },
  "language_info": {
   "codemirror_mode": {
    "name": "ipython",
    "version": 3
   },
   "file_extension": ".py",
   "mimetype": "text/x-python",
   "name": "python",
   "nbconvert_exporter": "python",
   "pygments_lexer": "ipython3",
   "version": "3.6.3"
  }
 },
 "nbformat": 4,
 "nbformat_minor": 1
}
